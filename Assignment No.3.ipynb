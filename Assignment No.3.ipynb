{
 "cells": [
  {
   "cell_type": "code",
   "execution_count": 1,
   "id": "e49bf73e",
   "metadata": {},
   "outputs": [
    {
     "name": "stdout",
     "output_type": "stream",
     "text": [
      "Twinkle, twinkle, little star, \n",
      "\tHow I wonder what you are! \n",
      "\t\tUp above the world so high, \n",
      "\t\tLike a diamond in the sky. \n",
      "Twinkle, twinkle, little star, \n",
      "\tHow I wonder what you are!\n"
     ]
    }
   ],
   "source": [
    "# 1. Write a Python program to print the following string in a specific format (see the output). \n",
    "print(\"Twinkle, twinkle, little star, \\n\\tHow I wonder what you are! \\n\\t\\tUp above the world so high, \\n\\t\\tLike a diamond in the sky. \\nTwinkle, twinkle, little star, \\n\\tHow I wonder what you are!\")\n"
   ]
  },
  {
   "cell_type": "code",
   "execution_count": 2,
   "id": "7ebc5dc1",
   "metadata": {},
   "outputs": [
    {
     "name": "stdout",
     "output_type": "stream",
     "text": [
      "Python version\n",
      "3.8.8 (default, Apr 13 2021, 15:08:03) [MSC v.1916 64 bit (AMD64)]\n",
      "Version info.\n",
      "sys.version_info(major=3, minor=8, micro=8, releaselevel='final', serial=0)\n"
     ]
    }
   ],
   "source": [
    "# 2. Write a Python program to get the Python version you are using.\n",
    "import sys\n",
    "print(\"Python version\")\n",
    "print (sys.version)\n",
    "print(\"Version info.\")\n",
    "print (sys.version_info)"
   ]
  },
  {
   "cell_type": "code",
   "execution_count": 3,
   "id": "ca5bbf42",
   "metadata": {},
   "outputs": [
    {
     "name": "stdout",
     "output_type": "stream",
     "text": [
      "Current date and time : \n",
      "2021-10-24 12:52:31\n"
     ]
    }
   ],
   "source": [
    "# 3. Write a Python program to display the current date and time. \n",
    "import datetime\n",
    "now = datetime.datetime.now()\n",
    "print (\"Current date and time : \")\n",
    "print (now.strftime(\"%Y-%m-%d %H:%M:%S\"))"
   ]
  },
  {
   "cell_type": "code",
   "execution_count": 4,
   "id": "42f4e4de",
   "metadata": {},
   "outputs": [
    {
     "name": "stdout",
     "output_type": "stream",
     "text": [
      "Input the radius of the circle : 5\n",
      "The area of the circle with radius 5.0 is: 78.53981633974483\n"
     ]
    }
   ],
   "source": [
    "# 4. Write a Python program which accepts the radius of a circle from the user and compute the area.\n",
    "from math import pi\n",
    "r = float(input (\"Input the radius of the circle : \"))\n",
    "print (\"The area of the circle with radius \" + str(r) + \" is: \" + str(pi * r**2))"
   ]
  },
  {
   "cell_type": "code",
   "execution_count": 5,
   "id": "d856f970",
   "metadata": {},
   "outputs": [
    {
     "name": "stdout",
     "output_type": "stream",
     "text": [
      "Input your First Name : Muhammad Umar\n",
      "Input your Last Name : Raza\n",
      "Raza Muhammad Umar\n"
     ]
    }
   ],
   "source": [
    "# 5. Write a Python program which accepts the user's first and last name and print them in reverse order with a space between them.\n",
    "first_name = input(\"Input your First Name : \")\n",
    "last_name = input(\"Input your Last Name : \")\n",
    "print (last_name + \" \" + first_name)\n"
   ]
  },
  {
   "cell_type": "code",
   "execution_count": 6,
   "id": "c3094fae",
   "metadata": {},
   "outputs": [
    {
     "name": "stdout",
     "output_type": "stream",
     "text": [
      "Input first integer:\n",
      "736\n",
      "Input second integer:\n",
      "388\n",
      "Sum of the two integers:  1124\n"
     ]
    }
   ],
   "source": [
    "# 6. Write a python program which takes two inputs from user and print their addition.\n",
    "print(\"Input first integer:\")\n",
    "x = int(input())\n",
    "print(\"Input second integer:\")\n",
    "y = int(input())\n",
    "print(\"Sum of the two integers: \",x + y)"
   ]
  },
  {
   "cell_type": "code",
   "execution_count": 7,
   "id": "e5e7cdf4",
   "metadata": {},
   "outputs": [
    {
     "name": "stdout",
     "output_type": "stream",
     "text": [
      "Enter Marks Obtained in 5 Subjects: \n",
      "76\n",
      "82\n",
      "49\n",
      "86\n",
      "64\n",
      "357\n",
      "71.4\n",
      "Your Grade is A\n"
     ]
    }
   ],
   "source": [
    "# 7. Write a program which takes 5 inputs from user for different subject’s marks, total it and generate mark sheet using grades ?\n",
    "print(\"Enter Marks Obtained in 5 Subjects: \")\n",
    "eng_marks = int(input())\n",
    "math_marks = int(input())\n",
    "cs_marks = int(input())\n",
    "isl_marks = int(input())\n",
    "urdu_marks = int(input())\n",
    "\n",
    "total = eng_marks+math_marks+cs_marks+isl_marks+urdu_marks\n",
    "print(\"Total marks = \" ,total)\n",
    "avg = total/5\n",
    "print(\"Average = \",avg)\n",
    "\n",
    "if avg>=80 and avg<=100:\n",
    "    print(\"Your Grade is A+\")\n",
    "elif avg>=70 and avg<80:\n",
    "    print(\"Your Grade is A\")\n",
    "elif avg>=60 and avg<70:\n",
    "    print(\"Your Grade is B\")\n",
    "elif avg>=50 and avg<60:\n",
    "    print(\"Your Grade is C\")\n",
    "elif avg>=40 and avg<50:\n",
    "    print(\"Your Grade is D\")\n",
    "elif avg>=33 and avg<40:\n",
    "    print(\"Your Grade is E\")\n",
    "elif avg>=0 and avg<33:\n",
    "    print(\"You have failed\")\n",
    "else:\n",
    "    print(\"Invalid Input!\")\n"
   ]
  },
  {
   "cell_type": "code",
   "execution_count": 8,
   "id": "1ac178a7",
   "metadata": {},
   "outputs": [
    {
     "name": "stdout",
     "output_type": "stream",
     "text": [
      "Enter a Number : \n",
      "55\n",
      "Your entered number is odd\n"
     ]
    }
   ],
   "source": [
    "# 8. Write a program which take input from user and identify that the given number is even or odd?\n",
    "print(\"Enter a Number : \")\n",
    "number = int(input())\n",
    "if number % 2 == 0:\n",
    "    print(\"Your entered number is even\");\n",
    "else:\n",
    "        print(\"Your entered number is odd\");\n"
   ]
  },
  {
   "cell_type": "code",
   "execution_count": 9,
   "id": "6ac22731",
   "metadata": {},
   "outputs": [
    {
     "name": "stdout",
     "output_type": "stream",
     "text": [
      "The length of the list is:  6\n"
     ]
    }
   ],
   "source": [
    "# 9. Write a program which print the length of the list? \n",
    "list1 = [\"Umar\", \"Ali\", \"Kamran\", \"Shahid\", \"Zaheer\", \"Akmal\"]\n",
    "\n",
    "print(\"The length of the list is: \", len(list1))"
   ]
  },
  {
   "cell_type": "code",
   "execution_count": 10,
   "id": "8e439268",
   "metadata": {},
   "outputs": [
    {
     "name": "stdout",
     "output_type": "stream",
     "text": [
      "8\n"
     ]
    }
   ],
   "source": [
    "# 10.Write a Python program to sum all the numeric items in a list? \n",
    "def list_sum(items):\n",
    "    sum_numbers = 0\n",
    "    for x in items:\n",
    "        sum_numbers += x\n",
    "    return sum_numbers\n",
    "print(list_sum([1,2,4,9,-8,]))"
   ]
  },
  {
   "cell_type": "code",
   "execution_count": 11,
   "id": "99d9600b",
   "metadata": {},
   "outputs": [
    {
     "name": "stdout",
     "output_type": "stream",
     "text": [
      "86\n"
     ]
    }
   ],
   "source": [
    "# 11.Write a Python program to get the largest number from a numeric list. \n",
    "def max_num_in_list( list ):\n",
    "    max = list[ 0 ]\n",
    "    for a in list:\n",
    "        if a > max:\n",
    "            max = a\n",
    "    return max\n",
    "print(max_num_in_list([1, 2, -8, 0, 86, 42,79]))"
   ]
  },
  {
   "cell_type": "code",
   "execution_count": 12,
   "id": "f1620581",
   "metadata": {},
   "outputs": [
    {
     "name": "stdout",
     "output_type": "stream",
     "text": [
      "1\n",
      "1\n",
      "2\n",
      "3\n"
     ]
    }
   ],
   "source": [
    "# 12. Take a list, say for example this one: a = [1, 1, 2, 3, 5, 8, 13, 21, 34, 55, 89] Write a program that prints out all the elements of the list that are less than 5. \n",
    "a = [1, 1, 2, 3, 5, 8, 13, 21, 34, 55, 89]\n",
    "for i in a:\n",
    "    if i < 5:\n",
    "        print(i)"
   ]
  }
 ],
 "metadata": {
  "celltoolbar": "Tags",
  "kernelspec": {
   "display_name": "Python 3",
   "language": "python",
   "name": "python3"
  },
  "language_info": {
   "codemirror_mode": {
    "name": "ipython",
    "version": 3
   },
   "file_extension": ".py",
   "mimetype": "text/x-python",
   "name": "python",
   "nbconvert_exporter": "python",
   "pygments_lexer": "ipython3",
   "version": "3.8.8"
  }
 },
 "nbformat": 4,
 "nbformat_minor": 5
}
